{
 "cells": [
  {
   "cell_type": "code",
   "execution_count": null,
   "metadata": {},
   "outputs": [],
   "source": [
    "from openai import OpenAI\n",
    "\n",
    "# init client and connect to localhost server\n",
    "client = OpenAI(\n",
    "    api_key=\"fake-api-key\",\n",
    "    base_url=\"http://localhost:8003\" # change the default port if needed\n",
    ")\n",
    "\n",
    "stream = client.chat.completions.create(\n",
    "    model=\"mock-gpt-model\",\n",
    "    messages=[{\"role\": \"user\", \"content\": \"Say this is a test\"}],\n",
    "    stream=True,\n",
    ")\n",
    "for chunk in stream:\n",
    "    print(chunk.choices[0].delta.content or \"\")"
   ]
  }
 ],
 "metadata": {
  "kernelspec": {
   "display_name": "gm-guanhai-robot",
   "language": "python",
   "name": "python3"
  },
  "language_info": {
   "name": "python",
   "version": "3.12.4"
  }
 },
 "nbformat": 4,
 "nbformat_minor": 2
}
