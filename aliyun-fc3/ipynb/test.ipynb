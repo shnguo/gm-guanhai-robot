{
 "cells": [
  {
   "cell_type": "code",
   "execution_count": 8,
   "metadata": {},
   "outputs": [],
   "source": [
    "from odps import ODPS\n",
    "import os\n",
    "from dotenv import load_dotenv, find_dotenv\n",
    "load_dotenv(find_dotenv(), override=True, verbose=True)\n",
    "def get_odps_data(sql):\n",
    "    o = ODPS(\n",
    "        os.getenv(\"ALIBABA_CLOUD_ACCESS_KEY_ID\"),\n",
    "        os.getenv(\"ALIBABA_CLOUD_ACCESS_KEY_SECRET\"),\n",
    "        project=\"gmods\",\n",
    "        endpoint=\"http://service.cn-shanghai.maxcompute.aliyun.com/api\",\n",
    "    )\n",
    "    with o.execute_sql(\n",
    "        sql, hints={\"odps.sql.validate.orderby.limit\": \"false\"}\n",
    "    ).open_reader(tunnel=True) as reader:\n",
    "        # type of pd_df is pandas DataFrame\n",
    "        pd_df = reader.to_pandas()\n",
    "    # pd_df.to_csv(f\"B07DL2K5MN.csv\", index=False)\n",
    "    return pd_df"
   ]
  },
  {
   "cell_type": "code",
   "execution_count": 11,
   "metadata": {},
   "outputs": [],
   "source": [
    "sql = '''\n",
    "    select distinct asin,commentid, content from gmods.s_vevor_crs_crp_bazhuayu_amazon_asin_review_df \n",
    "    where ds=MAX_PT('gmods.s_vevor_crs_crp_bazhuayu_amazon_asin_review_df');\n",
    "    '''\n",
    "df = get_odps_data(sql)"
   ]
  },
  {
   "cell_type": "code",
   "execution_count": 12,
   "metadata": {},
   "outputs": [
    {
     "data": {
      "text/html": [
       "<div>\n",
       "<style scoped>\n",
       "    .dataframe tbody tr th:only-of-type {\n",
       "        vertical-align: middle;\n",
       "    }\n",
       "\n",
       "    .dataframe tbody tr th {\n",
       "        vertical-align: top;\n",
       "    }\n",
       "\n",
       "    .dataframe thead th {\n",
       "        text-align: right;\n",
       "    }\n",
       "</style>\n",
       "<table border=\"1\" class=\"dataframe\">\n",
       "  <thead>\n",
       "    <tr style=\"text-align: right;\">\n",
       "      <th></th>\n",
       "      <th>asin</th>\n",
       "      <th>commentid</th>\n",
       "      <th>content</th>\n",
       "    </tr>\n",
       "  </thead>\n",
       "  <tbody>\n",
       "    <tr>\n",
       "      <th>0</th>\n",
       "      <td>B09BCFWJY5</td>\n",
       "      <td>R1N9MW0YSXRRNK</td>\n",
       "      <td>Il prodotto e il prezzo sono buoni purtroppo è...</td>\n",
       "    </tr>\n",
       "    <tr>\n",
       "      <th>1</th>\n",
       "      <td>B0CCNTWYTL</td>\n",
       "      <td>R2KF4ZU2WN3BW5</td>\n",
       "      <td>Je suis dé?ue par la finition de la cage. Plus...</td>\n",
       "    </tr>\n",
       "    <tr>\n",
       "      <th>2</th>\n",
       "      <td>B09P8BLG6H</td>\n",
       "      <td>R3UJXAU1KFFYSN</td>\n",
       "      <td>I have 2 of these. I use one to secure 2 elect...</td>\n",
       "    </tr>\n",
       "    <tr>\n",
       "      <th>3</th>\n",
       "      <td>B08BN5W35Z</td>\n",
       "      <td>R3T9KKK1XN86PX</td>\n",
       "      <td>This magnet does not work!!! It very clearly s...</td>\n",
       "    </tr>\n",
       "    <tr>\n",
       "      <th>4</th>\n",
       "      <td>B0CCNTWYTL</td>\n",
       "      <td>R3UNTMF70AP4D6</td>\n",
       "      <td>Buona qualità ma non idoneo per il mí pet</td>\n",
       "    </tr>\n",
       "  </tbody>\n",
       "</table>\n",
       "</div>"
      ],
      "text/plain": [
       "         asin       commentid  \\\n",
       "0  B09BCFWJY5  R1N9MW0YSXRRNK   \n",
       "1  B0CCNTWYTL  R2KF4ZU2WN3BW5   \n",
       "2  B09P8BLG6H  R3UJXAU1KFFYSN   \n",
       "3  B08BN5W35Z  R3T9KKK1XN86PX   \n",
       "4  B0CCNTWYTL  R3UNTMF70AP4D6   \n",
       "\n",
       "                                             content  \n",
       "0  Il prodotto e il prezzo sono buoni purtroppo è...  \n",
       "1  Je suis dé?ue par la finition de la cage. Plus...  \n",
       "2  I have 2 of these. I use one to secure 2 elect...  \n",
       "3  This magnet does not work!!! It very clearly s...  \n",
       "4          Buona qualità ma non idoneo per il mí pet  "
      ]
     },
     "execution_count": 12,
     "metadata": {},
     "output_type": "execute_result"
    }
   ],
   "source": [
    "df.head()"
   ]
  },
  {
   "cell_type": "code",
   "execution_count": 2,
   "metadata": {},
   "outputs": [
    {
     "name": "stderr",
     "output_type": "stream",
     "text": [
      "\u001b[32m2024-10-16 18:26:25.118\u001b[0m | \u001b[34m\u001b[1mDEBUG   \u001b[0m | \u001b[36m__main__\u001b[0m:\u001b[36m<module>\u001b[0m:\u001b[36m3\u001b[0m - \u001b[34m\u001b[1mThat's it, beautiful and simple logging!\u001b[0m\n"
     ]
    }
   ],
   "source": [
    "from loguru import logger\n",
    "import sys\n",
    "logger.debug(\"That's it, beautiful and simple logging!\")"
   ]
  },
  {
   "cell_type": "code",
   "execution_count": 3,
   "metadata": {},
   "outputs": [
    {
     "data": {
      "text/plain": [
       "1"
      ]
     },
     "execution_count": 3,
     "metadata": {},
     "output_type": "execute_result"
    }
   ],
   "source": [
    "logger.add(sys.stderr, format=\"{time} {level} {message}\", filter=\"my_module\", level=\"INFO\")"
   ]
  },
  {
   "cell_type": "code",
   "execution_count": 5,
   "metadata": {},
   "outputs": [
    {
     "name": "stderr",
     "output_type": "stream",
     "text": [
      "\u001b[32m2024-10-16 18:28:17.330\u001b[0m | \u001b[31m\u001b[1mERROR   \u001b[0m | \u001b[36m__main__\u001b[0m:\u001b[36m<module>\u001b[0m:\u001b[36m1\u001b[0m - \u001b[31m\u001b[1mThat's it, beautiful and simple logging!\u001b[0m\n"
     ]
    }
   ],
   "source": [
    "logger.error(\"That's it, beautiful and simple logging!\")"
   ]
  },
  {
   "cell_type": "code",
   "execution_count": 7,
   "metadata": {},
   "outputs": [
    {
     "name": "stderr",
     "output_type": "stream",
     "text": [
      "\u001b[32m2024-10-16 18:31:57.693\u001b[0m | \u001b[1mINFO    \u001b[0m | \u001b[36m__main__\u001b[0m:\u001b[36m<module>\u001b[0m:\u001b[36m4\u001b[0m - \u001b[1mError stacktrace added to the log message (tuple accepted too)\u001b[0m\n",
      "\u001b[31m\u001b[1mNoneType\u001b[0m:\u001b[1m None\u001b[0m\n",
      "\u001b[32m2024-10-16 18:31:57.694\u001b[0m | \u001b[1mINFO    \u001b[0m | \u001b[36m__main__\u001b[0m:\u001b[36m<module>\u001b[0m:\u001b[36m5\u001b[0m - \u001b[1mPer message \u001b[34mcolors\u001b[0m\u001b[1m\u001b[0m\n",
      "\u001b[32m2024-10-16 18:31:57.694\u001b[0m | \u001b[1mINFO    \u001b[0m | \u001b[36m__main__\u001b[0m:\u001b[36m<module>\u001b[0m:\u001b[36m6\u001b[0m - \u001b[1mDisplay values from the record (eg. 140558311151424)\u001b[0m\n",
      "Bypass sink formatting\n",
      "\u001b[32m2024-10-16 18:31:57.695\u001b[0m | \u001b[1mINFO    \u001b[0m | \u001b[36mIPython.core.interactiveshell\u001b[0m:\u001b[36mrun_code\u001b[0m:\u001b[36m3577\u001b[0m - \u001b[1mUse parent stack context (useful within wrapped functions)\u001b[0m\n",
      "\u001b[32m2024-10-16 18:31:57.696\u001b[0m | \u001b[1mINFO    \u001b[0m | \u001b[36m__main__\u001b[0m:\u001b[36m<module>\u001b[0m:\u001b[36m9\u001b[0m - \u001b[1mKeyword arguments not added to extra dict\u001b[0m\n"
     ]
    }
   ],
   "source": [
    "# logger.opt(lazy=True).debug(\"If sink level <= DEBUG: {x}\", x=lambda: expensive_function(2**64))\n",
    "\n",
    "# By the way, \"opt()\" serves many usages\n",
    "logger.opt(exception=True).info(\"Error stacktrace added to the log message (tuple accepted too)\")\n",
    "logger.opt(colors=True).info(\"Per message <blue>colors</blue>\")\n",
    "logger.opt(record=True).info(\"Display values from the record (eg. {record[thread]})\")\n",
    "logger.opt(raw=True).info(\"Bypass sink formatting\\n\")\n",
    "logger.opt(depth=1).info(\"Use parent stack context (useful within wrapped functions)\")\n",
    "logger.opt(capture=False).info(\"Keyword arguments not added to {dest} dict\", dest=\"extra\")"
   ]
  },
  {
   "cell_type": "code",
   "execution_count": 9,
   "metadata": {},
   "outputs": [
    {
     "name": "stdout",
     "output_type": "stream",
     "text": [
      "✔️ Done! Loading...\n"
     ]
    }
   ],
   "source": [
    "from yaspin import yaspin\n",
    "import time\n",
    "\n",
    "with yaspin(text=\"Loading...\", color=\"cyan\") as spinner:\n",
    "    time.sleep(3)\n",
    "    spinner.ok(\"✔️ Done!\")"
   ]
  },
  {
   "cell_type": "code",
   "execution_count": null,
   "metadata": {},
   "outputs": [],
   "source": [
    "{\n",
    "    \"data\": {\n",
    "        \"request_id\": \"123\",\n",
    "        \"voc_list\": [\n",
    "            {\n",
    "                \"voc_key\": \"Product Quality Control and Durability\",\n",
    "                \"voc_value\": \"Implement stricter quality control measures during manufacturing and packaging to ensure products meet expected standards. Enhance packaging to prevent damage during shipping, thereby improving customer satisfaction.\",\n",
    "                \"voc_classification\": \"Product quality\",\n",
    "                \"number_of_positive_reviews\": 110,\n",
    "                \"number_of_negative_reviews\": 115,\n",
    "            },\n",
    "            {\n",
    "                \"voc_key\": \"Assembly Instructions\",\n",
    "                \"voc_value\": \"Provide clear, detailed, and accurate assembly instructions, possibly with video tutorials, to improve the user experience and reduce frustration.\",\n",
    "                \"voc_classification\": \"Product design and function\",\n",
    "                \"number_of_positive_reviews\": 5,\n",
    "                \"number_of_negative_reviews\": 10,\n",
    "            },\n",
    "            {\n",
    "                \"voc_key\": \"Customer Service and Support\",\n",
    "                \"voc_value\": \"Enhance customer support by providing timely and effective assistance to build trust and loyalty among customers.\",\n",
    "                \"voc_classification\": \"Service quality\",\n",
    "                \"number_of_positive_reviews\": 3,\n",
    "                \"number_of_negative_reviews\": 8,\n",
    "            },\n",
    "            {\n",
    "                \"voc_key\": \"Product Specifications and Advertising\",\n",
    "                \"voc_value\": \"Ensure accurate product descriptions and specifications to prevent customer dissatisfaction and returns.\",\n",
    "                \"voc_classification\": \"Product design and function\",\n",
    "                \"number_of_positive_reviews\": 4,\n",
    "                \"number_of_negative_reviews\": 7,\n",
    "            },\n",
    "            {\n",
    "                \"voc_key\": \"Lock and Security Features\",\n",
    "                \"voc_value\": \"Improve the quality of locks and use rust-resistant materials to enhance product reliability and safety.\",\n",
    "                \"voc_classification\": \"Product design and function\",\n",
    "                \"number_of_positive_reviews\": 6,\n",
    "                \"number_of_negative_reviews\": 9,\n",
    "            },\n",
    "        ],\n",
    "    },\n",
    "    \"status_code\": 200,\n",
    "    \"total_tokens\": 8146,\n",
    "    \"prompt_tokens\": 7600,\n",
    "    \"completion_tokens\": 546,\n",
    "}"
   ]
  }
 ],
 "metadata": {
  "kernelspec": {
   "display_name": "gm-guanhai-robot",
   "language": "python",
   "name": "python3"
  },
  "language_info": {
   "codemirror_mode": {
    "name": "ipython",
    "version": 3
   },
   "file_extension": ".py",
   "mimetype": "text/x-python",
   "name": "python",
   "nbconvert_exporter": "python",
   "pygments_lexer": "ipython3",
   "version": "3.12.4"
  }
 },
 "nbformat": 4,
 "nbformat_minor": 2
}
