{
 "cells": [
  {
   "cell_type": "code",
   "execution_count": 8,
   "metadata": {},
   "outputs": [],
   "source": [
    "from odps import ODPS\n",
    "import os\n",
    "from dotenv import load_dotenv, find_dotenv\n",
    "load_dotenv(find_dotenv(), override=True, verbose=True)\n",
    "def get_odps_data(sql):\n",
    "    o = ODPS(\n",
    "        os.getenv(\"ALIBABA_CLOUD_ACCESS_KEY_ID\"),\n",
    "        os.getenv(\"ALIBABA_CLOUD_ACCESS_KEY_SECRET\"),\n",
    "        project=\"gmods\",\n",
    "        endpoint=\"http://service.cn-shanghai.maxcompute.aliyun.com/api\",\n",
    "    )\n",
    "    with o.execute_sql(\n",
    "        sql, hints={\"odps.sql.validate.orderby.limit\": \"false\"}\n",
    "    ).open_reader(tunnel=True) as reader:\n",
    "        # type of pd_df is pandas DataFrame\n",
    "        pd_df = reader.to_pandas()\n",
    "    # pd_df.to_csv(f\"B07DL2K5MN.csv\", index=False)\n",
    "    return pd_df"
   ]
  },
  {
   "cell_type": "code",
   "execution_count": 11,
   "metadata": {},
   "outputs": [],
   "source": [
    "sql = '''\n",
    "    select distinct asin,commentid, content from gmods.s_vevor_crs_crp_bazhuayu_amazon_asin_review_df \n",
    "    where ds=MAX_PT('gmods.s_vevor_crs_crp_bazhuayu_amazon_asin_review_df');\n",
    "    '''\n",
    "df = get_odps_data(sql)"
   ]
  },
  {
   "cell_type": "code",
   "execution_count": 12,
   "metadata": {},
   "outputs": [
    {
     "data": {
      "text/html": [
       "<div>\n",
       "<style scoped>\n",
       "    .dataframe tbody tr th:only-of-type {\n",
       "        vertical-align: middle;\n",
       "    }\n",
       "\n",
       "    .dataframe tbody tr th {\n",
       "        vertical-align: top;\n",
       "    }\n",
       "\n",
       "    .dataframe thead th {\n",
       "        text-align: right;\n",
       "    }\n",
       "</style>\n",
       "<table border=\"1\" class=\"dataframe\">\n",
       "  <thead>\n",
       "    <tr style=\"text-align: right;\">\n",
       "      <th></th>\n",
       "      <th>asin</th>\n",
       "      <th>commentid</th>\n",
       "      <th>content</th>\n",
       "    </tr>\n",
       "  </thead>\n",
       "  <tbody>\n",
       "    <tr>\n",
       "      <th>0</th>\n",
       "      <td>B09BCFWJY5</td>\n",
       "      <td>R1N9MW0YSXRRNK</td>\n",
       "      <td>Il prodotto e il prezzo sono buoni purtroppo è...</td>\n",
       "    </tr>\n",
       "    <tr>\n",
       "      <th>1</th>\n",
       "      <td>B0CCNTWYTL</td>\n",
       "      <td>R2KF4ZU2WN3BW5</td>\n",
       "      <td>Je suis dé?ue par la finition de la cage. Plus...</td>\n",
       "    </tr>\n",
       "    <tr>\n",
       "      <th>2</th>\n",
       "      <td>B09P8BLG6H</td>\n",
       "      <td>R3UJXAU1KFFYSN</td>\n",
       "      <td>I have 2 of these. I use one to secure 2 elect...</td>\n",
       "    </tr>\n",
       "    <tr>\n",
       "      <th>3</th>\n",
       "      <td>B08BN5W35Z</td>\n",
       "      <td>R3T9KKK1XN86PX</td>\n",
       "      <td>This magnet does not work!!! It very clearly s...</td>\n",
       "    </tr>\n",
       "    <tr>\n",
       "      <th>4</th>\n",
       "      <td>B0CCNTWYTL</td>\n",
       "      <td>R3UNTMF70AP4D6</td>\n",
       "      <td>Buona qualità ma non idoneo per il mí pet</td>\n",
       "    </tr>\n",
       "  </tbody>\n",
       "</table>\n",
       "</div>"
      ],
      "text/plain": [
       "         asin       commentid  \\\n",
       "0  B09BCFWJY5  R1N9MW0YSXRRNK   \n",
       "1  B0CCNTWYTL  R2KF4ZU2WN3BW5   \n",
       "2  B09P8BLG6H  R3UJXAU1KFFYSN   \n",
       "3  B08BN5W35Z  R3T9KKK1XN86PX   \n",
       "4  B0CCNTWYTL  R3UNTMF70AP4D6   \n",
       "\n",
       "                                             content  \n",
       "0  Il prodotto e il prezzo sono buoni purtroppo è...  \n",
       "1  Je suis dé?ue par la finition de la cage. Plus...  \n",
       "2  I have 2 of these. I use one to secure 2 elect...  \n",
       "3  This magnet does not work!!! It very clearly s...  \n",
       "4          Buona qualità ma non idoneo per il mí pet  "
      ]
     },
     "execution_count": 12,
     "metadata": {},
     "output_type": "execute_result"
    }
   ],
   "source": [
    "df.head()"
   ]
  }
 ],
 "metadata": {
  "kernelspec": {
   "display_name": "gm-guanhai-robot",
   "language": "python",
   "name": "python3"
  },
  "language_info": {
   "codemirror_mode": {
    "name": "ipython",
    "version": 3
   },
   "file_extension": ".py",
   "mimetype": "text/x-python",
   "name": "python",
   "nbconvert_exporter": "python",
   "pygments_lexer": "ipython3",
   "version": "undefined.undefined.undefined"
  }
 },
 "nbformat": 4,
 "nbformat_minor": 2
}
